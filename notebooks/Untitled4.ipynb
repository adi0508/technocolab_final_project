{
  "nbformat": 4,
  "nbformat_minor": 0,
  "metadata": {
    "colab": {
      "name": "Untitled4.ipynb",
      "provenance": []
    },
    "kernelspec": {
      "name": "python3",
      "display_name": "Python 3"
    },
    "accelerator": "GPU"
  },
  "cells": [
    {
      "cell_type": "code",
      "metadata": {
        "id": "R6Wx3FSLjLWh"
      },
      "source": [
        "import pandas as pd\r\n",
        "import numpy as np\r\n",
        "import warnings\r\n",
        "warnings.filterwarnings('ignore')\r\n",
        "%matplotlib inline\r\n",
        "\r\n",
        "import regex as re\r\n",
        "\r\n",
        "from sklearn.feature_extraction.text import TfidfVectorizer \r\n",
        "from sklearn.model_selection import train_test_split\r\n",
        "\r\n",
        "from sklearn.ensemble import RandomForestClassifier\r\n",
        "from sklearn.svm import SVC\r\n",
        "from sklearn.metrics import classification_report,accuracy_score"
      ],
      "execution_count": 1,
      "outputs": []
    },
    {
      "cell_type": "code",
      "metadata": {
        "id": "-SFwt2IUjnQt"
      },
      "source": [
        "df = pd.read_csv('/content/drive/MyDrive/technocolab final project/troll_data.csv',index_col='Unnamed: 0')"
      ],
      "execution_count": 2,
      "outputs": []
    },
    {
      "cell_type": "code",
      "metadata": {
        "colab": {
          "base_uri": "https://localhost:8080/"
        },
        "id": "_pbtiIJ8jvxm",
        "outputId": "3a0db194-7beb-499e-80fa-3c2e5e187055"
      },
      "source": [
        "df.columns"
      ],
      "execution_count": 4,
      "outputs": [
        {
          "output_type": "execute_result",
          "data": {
            "text/plain": [
              "Index(['content', 'troll'], dtype='object')"
            ]
          },
          "metadata": {
            "tags": []
          },
          "execution_count": 4
        }
      ]
    },
    {
      "cell_type": "code",
      "metadata": {
        "colab": {
          "base_uri": "https://localhost:8080/",
          "height": 195
        },
        "id": "GbX_c6O9j04m",
        "outputId": "f1d24cb8-4756-45a6-d6a0-c5f65ff1ea30"
      },
      "source": [
        "df.head()"
      ],
      "execution_count": 5,
      "outputs": [
        {
          "output_type": "execute_result",
          "data": {
            "text/html": [
              "<div>\n",
              "<style scoped>\n",
              "    .dataframe tbody tr th:only-of-type {\n",
              "        vertical-align: middle;\n",
              "    }\n",
              "\n",
              "    .dataframe tbody tr th {\n",
              "        vertical-align: top;\n",
              "    }\n",
              "\n",
              "    .dataframe thead th {\n",
              "        text-align: right;\n",
              "    }\n",
              "</style>\n",
              "<table border=\"1\" class=\"dataframe\">\n",
              "  <thead>\n",
              "    <tr style=\"text-align: right;\">\n",
              "      <th></th>\n",
              "      <th>content</th>\n",
              "      <th>troll</th>\n",
              "    </tr>\n",
              "  </thead>\n",
              "  <tbody>\n",
              "    <tr>\n",
              "      <th>3670</th>\n",
              "      <td>💩</td>\n",
              "      <td>1</td>\n",
              "    </tr>\n",
              "    <tr>\n",
              "      <th>15401</th>\n",
              "      <td>why would hillary clinton—who holds public and...</td>\n",
              "      <td>0</td>\n",
              "    </tr>\n",
              "    <tr>\n",
              "      <th>8048</th>\n",
              "      <td>manni syd this is my late son killed by illega...</td>\n",
              "      <td>0</td>\n",
              "    </tr>\n",
              "    <tr>\n",
              "      <th>6923</th>\n",
              "      <td>awesome</td>\n",
              "      <td>1</td>\n",
              "    </tr>\n",
              "    <tr>\n",
              "      <th>21263</th>\n",
              "      <td>crazy a yr old child who can t pay a small fin...</td>\n",
              "      <td>0</td>\n",
              "    </tr>\n",
              "  </tbody>\n",
              "</table>\n",
              "</div>"
            ],
            "text/plain": [
              "                                                 content  troll\n",
              "3670                                                   💩      1\n",
              "15401  why would hillary clinton—who holds public and...      0\n",
              "8048   manni syd this is my late son killed by illega...      0\n",
              "6923                                             awesome      1\n",
              "21263  crazy a yr old child who can t pay a small fin...      0"
            ]
          },
          "metadata": {
            "tags": []
          },
          "execution_count": 5
        }
      ]
    },
    {
      "cell_type": "code",
      "metadata": {
        "colab": {
          "base_uri": "https://localhost:8080/",
          "height": 195
        },
        "id": "NHGngnQDj34Y",
        "outputId": "f2e19a83-7526-418e-a1e5-2bb3fdcc5945"
      },
      "source": [
        "# Pre-Processing\r\n",
        "df['content'] = df['content'].apply(lambda x: x.lower())\r\n",
        "# removing special chars\r\n",
        "df['content'] = df['content'].apply((lambda x: re.sub('[^a-zA-z0-9\\s]','',x)))\r\n",
        "df['content'] = df['content'].str.replace('rt','')\r\n",
        "df.head()"
      ],
      "execution_count": 7,
      "outputs": [
        {
          "output_type": "execute_result",
          "data": {
            "text/html": [
              "<div>\n",
              "<style scoped>\n",
              "    .dataframe tbody tr th:only-of-type {\n",
              "        vertical-align: middle;\n",
              "    }\n",
              "\n",
              "    .dataframe tbody tr th {\n",
              "        vertical-align: top;\n",
              "    }\n",
              "\n",
              "    .dataframe thead th {\n",
              "        text-align: right;\n",
              "    }\n",
              "</style>\n",
              "<table border=\"1\" class=\"dataframe\">\n",
              "  <thead>\n",
              "    <tr style=\"text-align: right;\">\n",
              "      <th></th>\n",
              "      <th>content</th>\n",
              "      <th>troll</th>\n",
              "    </tr>\n",
              "  </thead>\n",
              "  <tbody>\n",
              "    <tr>\n",
              "      <th>3670</th>\n",
              "      <td></td>\n",
              "      <td>1</td>\n",
              "    </tr>\n",
              "    <tr>\n",
              "      <th>15401</th>\n",
              "      <td>why would hillary clintonwho holds public and ...</td>\n",
              "      <td>0</td>\n",
              "    </tr>\n",
              "    <tr>\n",
              "      <th>8048</th>\n",
              "      <td>manni syd this is my late son killed by illega...</td>\n",
              "      <td>0</td>\n",
              "    </tr>\n",
              "    <tr>\n",
              "      <th>6923</th>\n",
              "      <td>awesome</td>\n",
              "      <td>1</td>\n",
              "    </tr>\n",
              "    <tr>\n",
              "      <th>21263</th>\n",
              "      <td>crazy a yr old child who can t pay a small fin...</td>\n",
              "      <td>0</td>\n",
              "    </tr>\n",
              "  </tbody>\n",
              "</table>\n",
              "</div>"
            ],
            "text/plain": [
              "                                                 content  troll\n",
              "3670                                                          1\n",
              "15401  why would hillary clintonwho holds public and ...      0\n",
              "8048   manni syd this is my late son killed by illega...      0\n",
              "6923                                             awesome      1\n",
              "21263  crazy a yr old child who can t pay a small fin...      0"
            ]
          },
          "metadata": {
            "tags": []
          },
          "execution_count": 7
        }
      ]
    },
    {
      "cell_type": "code",
      "metadata": {
        "id": "iPDTaGiXj6LM"
      },
      "source": [
        "tfidf_vectorizer = TfidfVectorizer(ngram_range=(1, 2),max_df=0.75, min_df=5, max_features=10000)\r\n",
        "tfidf = tfidf_vectorizer.fit_transform(df['content'] )\r\n",
        "X=tfidf\r\n",
        "y = df['troll'].astype(int)\r\n",
        "X_train_tfidf, X_test_tfidf, y_train, y_test = train_test_split(X, y, random_state=42, test_size=0.2)"
      ],
      "execution_count": 11,
      "outputs": []
    },
    {
      "cell_type": "code",
      "metadata": {
        "colab": {
          "base_uri": "https://localhost:8080/"
        },
        "id": "r1QU3rf3kB4D",
        "outputId": "2df0d933-b9fd-4bf0-f01f-92176fa20171"
      },
      "source": [
        "clf = RandomForestClassifier()\r\n",
        "clf.fit(X_train_tfidf,y_train)\r\n",
        "y_preds = clf.predict(X_test_tfidf)\r\n",
        "report = classification_report( y_test, y_preds )\r\n",
        "print(report)\r\n",
        "acc=accuracy_score(y_test,y_preds)\r\n",
        "print(\"Random Classifier, Accuracy Score:\" , acc)"
      ],
      "execution_count": 14,
      "outputs": [
        {
          "output_type": "stream",
          "text": [
            "              precision    recall  f1-score   support\n",
            "\n",
            "           0       0.96      0.95      0.96      5094\n",
            "           1       0.84      0.87      0.85      1419\n",
            "\n",
            "    accuracy                           0.93      6513\n",
            "   macro avg       0.90      0.91      0.91      6513\n",
            "weighted avg       0.94      0.93      0.94      6513\n",
            "\n",
            "Random Classifier, Accuracy Score: 0.9348994319054199\n"
          ],
          "name": "stdout"
        }
      ]
    },
    {
      "cell_type": "code",
      "metadata": {
        "colab": {
          "base_uri": "https://localhost:8080/"
        },
        "id": "YYMCmvKPkGyX",
        "outputId": "0aad2301-8d0d-477b-c38a-443b7bd3de6a"
      },
      "source": [
        "clf = SVC(verbose=True)\r\n",
        "clf.fit(X_train_tfidf,y_train)\r\n",
        "y_preds = clf.predict(X_test_tfidf)\r\n",
        "report = classification_report( y_test, y_preds )\r\n",
        "print(report)\r\n",
        "acc=accuracy_score(y_test,y_preds)\r\n",
        "print(\"Support Vector Machine, Accuracy Score:\" , acc)"
      ],
      "execution_count": 15,
      "outputs": [
        {
          "output_type": "stream",
          "text": [
            "[LibSVM]              precision    recall  f1-score   support\n",
            "\n",
            "           0       0.95      0.97      0.96      5094\n",
            "           1       0.88      0.80      0.84      1419\n",
            "\n",
            "    accuracy                           0.93      6513\n",
            "   macro avg       0.92      0.89      0.90      6513\n",
            "weighted avg       0.93      0.93      0.93      6513\n",
            "\n",
            "Support Vector Machine, Accuracy Score: 0.9339781974512513\n"
          ],
          "name": "stdout"
        }
      ]
    },
    {
      "cell_type": "markdown",
      "metadata": {
        "id": "fGEsqYM4k6hK"
      },
      "source": [
        "## LSTM model"
      ]
    },
    {
      "cell_type": "code",
      "metadata": {
        "id": "CcGRjRT6kfjV"
      },
      "source": [
        "from keras.preprocessing.text import Tokenizer\r\n",
        "from keras.preprocessing.sequence import pad_sequences\r\n",
        "from keras.models import Sequential\r\n",
        "from keras.layers import Dense, Embedding, LSTM, SpatialDropout1D"
      ],
      "execution_count": 16,
      "outputs": []
    },
    {
      "cell_type": "code",
      "metadata": {
        "id": "5Oxpgi12kjE2"
      },
      "source": [
        "max_fatures = 2000\r\n",
        "tokenizer = Tokenizer(num_words=max_fatures, split=' ')\r\n",
        "tokenizer.fit_on_texts(df['content'].values)\r\n",
        "X = tokenizer.texts_to_sequences(df['content'].values)"
      ],
      "execution_count": 17,
      "outputs": []
    },
    {
      "cell_type": "code",
      "metadata": {
        "id": "M1CIJpmfkuJj"
      },
      "source": [
        "# Padding\r\n",
        "X = pad_sequences(X)\r\n",
        "\r\n",
        "Y = pd.get_dummies(df['troll']).values"
      ],
      "execution_count": 18,
      "outputs": []
    },
    {
      "cell_type": "code",
      "metadata": {
        "colab": {
          "base_uri": "https://localhost:8080/"
        },
        "id": "DzqSalBTku1t",
        "outputId": "5a9e8dc7-e676-4098-edf1-2eccc79f72e1"
      },
      "source": [
        "# Train/Test Split\r\n",
        "X_train, X_test, Y_train, Y_test = train_test_split(X,Y, test_size = 0.20, random_state = 42)\r\n",
        "print(X_train.shape,Y_train.shape)\r\n",
        "print(X_test.shape,Y_test.shape)"
      ],
      "execution_count": 19,
      "outputs": [
        {
          "output_type": "stream",
          "text": [
            "(26051, 48) (26051, 2)\n",
            "(6513, 48) (6513, 2)\n"
          ],
          "name": "stdout"
        }
      ]
    },
    {
      "cell_type": "code",
      "metadata": {
        "colab": {
          "base_uri": "https://localhost:8080/"
        },
        "id": "-Ek1FuE0kxUq",
        "outputId": "094a1816-5957-4f3b-b7e5-375060d273ff"
      },
      "source": [
        "embed_dim = 128\r\n",
        "lstm_out = 196\r\n",
        "\r\n",
        "model = Sequential()\r\n",
        "model.add(Embedding(max_fatures, embed_dim,input_length = X.shape[1]))\r\n",
        "model.add(SpatialDropout1D(0.4))\r\n",
        "model.add(LSTM(lstm_out, dropout=0.2, recurrent_dropout=0.2))\r\n",
        "model.add(Dense(2,activation='softmax'))\r\n",
        "model.compile(loss = 'categorical_crossentropy', optimizer='adam',metrics = ['accuracy'])\r\n",
        "print(model.summary())"
      ],
      "execution_count": 20,
      "outputs": [
        {
          "output_type": "stream",
          "text": [
            "Model: \"sequential\"\n",
            "_________________________________________________________________\n",
            "Layer (type)                 Output Shape              Param #   \n",
            "=================================================================\n",
            "embedding (Embedding)        (None, 48, 128)           256000    \n",
            "_________________________________________________________________\n",
            "spatial_dropout1d (SpatialDr (None, 48, 128)           0         \n",
            "_________________________________________________________________\n",
            "lstm (LSTM)                  (None, 196)               254800    \n",
            "_________________________________________________________________\n",
            "dense (Dense)                (None, 2)                 394       \n",
            "=================================================================\n",
            "Total params: 511,194\n",
            "Trainable params: 511,194\n",
            "Non-trainable params: 0\n",
            "_________________________________________________________________\n",
            "None\n"
          ],
          "name": "stdout"
        }
      ]
    },
    {
      "cell_type": "code",
      "metadata": {
        "colab": {
          "base_uri": "https://localhost:8080/"
        },
        "id": "c090nmxtk1pq",
        "outputId": "f19c5a72-8fd0-451e-dee0-b2bb5f5568ec"
      },
      "source": [
        "batch_size = 512\r\n",
        "NoOfEpochs = 5\r\n",
        "model.fit(X_train, Y_train, epochs = NoOfEpochs, batch_size=batch_size, verbose = 1)"
      ],
      "execution_count": 24,
      "outputs": [
        {
          "output_type": "stream",
          "text": [
            "Epoch 1/5\n",
            "51/51 [==============================] - 77s 2s/step - loss: 0.1446 - accuracy: 0.9448\n",
            "Epoch 2/5\n",
            "51/51 [==============================] - 77s 2s/step - loss: 0.1380 - accuracy: 0.9480\n",
            "Epoch 3/5\n",
            "51/51 [==============================] - 78s 2s/step - loss: 0.1349 - accuracy: 0.9492\n",
            "Epoch 4/5\n",
            "51/51 [==============================] - 77s 2s/step - loss: 0.1301 - accuracy: 0.9509\n",
            "Epoch 5/5\n",
            "51/51 [==============================] - 78s 2s/step - loss: 0.1274 - accuracy: 0.9522\n"
          ],
          "name": "stdout"
        },
        {
          "output_type": "execute_result",
          "data": {
            "text/plain": [
              "<tensorflow.python.keras.callbacks.History at 0x7f8da3e3b4e0>"
            ]
          },
          "metadata": {
            "tags": []
          },
          "execution_count": 24
        }
      ]
    },
    {
      "cell_type": "code",
      "metadata": {
        "colab": {
          "base_uri": "https://localhost:8080/"
        },
        "id": "uKt6Zl8kk2WY",
        "outputId": "a19092ac-9a80-4fb2-c9b1-2d63469da488"
      },
      "source": [
        "Y_pred = model.predict_classes(X_test,batch_size = batch_size)\r\n",
        "df_test = pd.DataFrame({'true': Y_test.tolist(), 'pred':Y_pred})\r\n",
        "df_test['true'] = df_test['true'].apply(lambda x: np.argmax(x))\r\n",
        "print(classification_report(df_test.true, df_test.pred))"
      ],
      "execution_count": 29,
      "outputs": [
        {
          "output_type": "stream",
          "text": [
            "              precision    recall  f1-score   support\n",
            "\n",
            "           0       0.95      0.95      0.95      5094\n",
            "           1       0.82      0.84      0.83      1419\n",
            "\n",
            "    accuracy                           0.93      6513\n",
            "   macro avg       0.89      0.89      0.89      6513\n",
            "weighted avg       0.93      0.93      0.93      6513\n",
            "\n"
          ],
          "name": "stdout"
        }
      ]
    },
    {
      "cell_type": "code",
      "metadata": {
        "id": "NDk3T577pPKz"
      },
      "source": [
        ""
      ],
      "execution_count": null,
      "outputs": []
    }
  ]
}