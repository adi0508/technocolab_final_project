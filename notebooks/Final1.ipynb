{
 "cells": [
  {
   "cell_type": "markdown",
   "metadata": {},
   "source": [
    "### Import Libraries"
   ]
  },
  {
   "cell_type": "code",
   "execution_count": null,
   "metadata": {},
   "outputs": [],
   "source": []
  },
  {
   "cell_type": "code",
   "execution_count": 205,
   "metadata": {},
   "outputs": [],
   "source": [
    "import numpy as np \n",
    "import random  \n",
    "import pandas as pd \n",
    "import seaborn as sns\n",
    "import matplotlib.pyplot as plt"
   ]
  },
  {
   "cell_type": "code",
   "execution_count": 206,
   "metadata": {},
   "outputs": [],
   "source": [
    "data= pd.read_csv('C:/Users/ADITYA/Documents/GitHub/Technocolab Final Project/datasets/final combined file/ConsolidateOutput.csv')"
   ]
  },
  {
   "cell_type": "markdown",
   "metadata": {},
   "source": [
    "### Data Cleaning"
   ]
  },
  {
   "cell_type": "code",
   "execution_count": 207,
   "metadata": {},
   "outputs": [
    {
     "data": {
      "text/plain": [
       "(2973371, 15)"
      ]
     },
     "execution_count": 207,
     "metadata": {},
     "output_type": "execute_result"
    }
   ],
   "source": [
    "data.shape"
   ]
  },
  {
   "cell_type": "code",
   "execution_count": 208,
   "metadata": {},
   "outputs": [
    {
     "name": "stdout",
     "output_type": "stream",
     "text": [
      "<class 'pandas.core.frame.DataFrame'>\n",
      "RangeIndex: 2973371 entries, 0 to 2973370\n",
      "Data columns (total 15 columns):\n",
      " #   Column              Dtype  \n",
      "---  ------              -----  \n",
      " 0   external_author_id  float64\n",
      " 1   author              object \n",
      " 2   content             object \n",
      " 3   region              object \n",
      " 4   language            object \n",
      " 5   publish_date        object \n",
      " 6   harvested_date      object \n",
      " 7   following           int64  \n",
      " 8   followers           int64  \n",
      " 9   updates             int64  \n",
      " 10  post_type           object \n",
      " 11  account_type        object \n",
      " 12  new_june_2018       int64  \n",
      " 13  retweet             int64  \n",
      " 14  account_category    object \n",
      "dtypes: float64(1), int64(5), object(9)\n",
      "memory usage: 340.3+ MB\n"
     ]
    }
   ],
   "source": [
    "# Checking Type of each field \n",
    "data.info()"
   ]
  },
  {
   "cell_type": "code",
   "execution_count": 209,
   "metadata": {},
   "outputs": [
    {
     "data": {
      "text/plain": [
       "post_type             1662425\n",
       "region                   8843\n",
       "account_type              363\n",
       "external_author_id          4\n",
       "content                     1\n",
       "account_category            0\n",
       "retweet                     0\n",
       "new_june_2018               0\n",
       "updates                     0\n",
       "followers                   0\n",
       "following                   0\n",
       "harvested_date              0\n",
       "publish_date                0\n",
       "language                    0\n",
       "author                      0\n",
       "dtype: int64"
      ]
     },
     "execution_count": 209,
     "metadata": {},
     "output_type": "execute_result"
    }
   ],
   "source": [
    "# Checking missing Values\n",
    "data.isna().sum().sort_values(ascending=False)"
   ]
  },
  {
   "cell_type": "code",
   "execution_count": 210,
   "metadata": {},
   "outputs": [
    {
     "data": {
      "text/plain": [
       "post_type             1662424\n",
       "region                   8843\n",
       "account_type              363\n",
       "external_author_id          4\n",
       "account_category            0\n",
       "retweet                     0\n",
       "new_june_2018               0\n",
       "updates                     0\n",
       "followers                   0\n",
       "following                   0\n",
       "harvested_date              0\n",
       "publish_date                0\n",
       "language                    0\n",
       "content                     0\n",
       "author                      0\n",
       "dtype: int64"
      ]
     },
     "execution_count": 210,
     "metadata": {},
     "output_type": "execute_result"
    }
   ],
   "source": [
    "# Removing 1 content row \n",
    "data.dropna(subset = ['content'], inplace=True)\n",
    "# Again Checking of missing values\n",
    "data.isna().sum().sort_values(ascending=False)"
   ]
  },
  {
   "cell_type": "code",
   "execution_count": 211,
   "metadata": {},
   "outputs": [
    {
     "data": {
      "text/plain": [
       "(2973370, 15)"
      ]
     },
     "execution_count": 211,
     "metadata": {},
     "output_type": "execute_result"
    }
   ],
   "source": [
    "data.shape"
   ]
  },
  {
   "cell_type": "code",
   "execution_count": 212,
   "metadata": {},
   "outputs": [
    {
     "data": {
      "text/html": [
       "<div>\n",
       "<style scoped>\n",
       "    .dataframe tbody tr th:only-of-type {\n",
       "        vertical-align: middle;\n",
       "    }\n",
       "\n",
       "    .dataframe tbody tr th {\n",
       "        vertical-align: top;\n",
       "    }\n",
       "\n",
       "    .dataframe thead th {\n",
       "        text-align: right;\n",
       "    }\n",
       "</style>\n",
       "<table border=\"1\" class=\"dataframe\">\n",
       "  <thead>\n",
       "    <tr style=\"text-align: right;\">\n",
       "      <th></th>\n",
       "      <th>author</th>\n",
       "      <th>content</th>\n",
       "      <th>region</th>\n",
       "      <th>language</th>\n",
       "      <th>publish_date</th>\n",
       "      <th>following</th>\n",
       "      <th>followers</th>\n",
       "      <th>updates</th>\n",
       "      <th>post_type</th>\n",
       "      <th>account_type</th>\n",
       "      <th>new_june_2018</th>\n",
       "      <th>retweet</th>\n",
       "      <th>account_category</th>\n",
       "    </tr>\n",
       "  </thead>\n",
       "  <tbody>\n",
       "    <tr>\n",
       "      <th>0</th>\n",
       "      <td>10_GOP</td>\n",
       "      <td>\"We have a sitting Democrat US Senator on tria...</td>\n",
       "      <td>Unknown</td>\n",
       "      <td>English</td>\n",
       "      <td>10/1/2017 19:58</td>\n",
       "      <td>1052</td>\n",
       "      <td>9636</td>\n",
       "      <td>253</td>\n",
       "      <td>NaN</td>\n",
       "      <td>Right</td>\n",
       "      <td>0</td>\n",
       "      <td>0</td>\n",
       "      <td>RightTroll</td>\n",
       "    </tr>\n",
       "    <tr>\n",
       "      <th>1</th>\n",
       "      <td>10_GOP</td>\n",
       "      <td>Marshawn Lynch arrives to game in anti-Trump s...</td>\n",
       "      <td>Unknown</td>\n",
       "      <td>English</td>\n",
       "      <td>10/1/2017 22:43</td>\n",
       "      <td>1054</td>\n",
       "      <td>9637</td>\n",
       "      <td>254</td>\n",
       "      <td>NaN</td>\n",
       "      <td>Right</td>\n",
       "      <td>0</td>\n",
       "      <td>0</td>\n",
       "      <td>RightTroll</td>\n",
       "    </tr>\n",
       "    <tr>\n",
       "      <th>2</th>\n",
       "      <td>10_GOP</td>\n",
       "      <td>Daughter of fallen Navy Sailor delivers powerf...</td>\n",
       "      <td>Unknown</td>\n",
       "      <td>English</td>\n",
       "      <td>10/1/2017 22:50</td>\n",
       "      <td>1054</td>\n",
       "      <td>9637</td>\n",
       "      <td>255</td>\n",
       "      <td>RETWEET</td>\n",
       "      <td>Right</td>\n",
       "      <td>0</td>\n",
       "      <td>1</td>\n",
       "      <td>RightTroll</td>\n",
       "    </tr>\n",
       "    <tr>\n",
       "      <th>3</th>\n",
       "      <td>10_GOP</td>\n",
       "      <td>JUST IN: President Trump dedicates Presidents ...</td>\n",
       "      <td>Unknown</td>\n",
       "      <td>English</td>\n",
       "      <td>10/1/2017 23:52</td>\n",
       "      <td>1062</td>\n",
       "      <td>9642</td>\n",
       "      <td>256</td>\n",
       "      <td>NaN</td>\n",
       "      <td>Right</td>\n",
       "      <td>0</td>\n",
       "      <td>0</td>\n",
       "      <td>RightTroll</td>\n",
       "    </tr>\n",
       "    <tr>\n",
       "      <th>4</th>\n",
       "      <td>10_GOP</td>\n",
       "      <td>19,000 RESPECTING our National Anthem! #StandF...</td>\n",
       "      <td>Unknown</td>\n",
       "      <td>English</td>\n",
       "      <td>10/1/2017 2:13</td>\n",
       "      <td>1050</td>\n",
       "      <td>9645</td>\n",
       "      <td>246</td>\n",
       "      <td>RETWEET</td>\n",
       "      <td>Right</td>\n",
       "      <td>0</td>\n",
       "      <td>1</td>\n",
       "      <td>RightTroll</td>\n",
       "    </tr>\n",
       "  </tbody>\n",
       "</table>\n",
       "</div>"
      ],
      "text/plain": [
       "   author                                            content   region  \\\n",
       "0  10_GOP  \"We have a sitting Democrat US Senator on tria...  Unknown   \n",
       "1  10_GOP  Marshawn Lynch arrives to game in anti-Trump s...  Unknown   \n",
       "2  10_GOP  Daughter of fallen Navy Sailor delivers powerf...  Unknown   \n",
       "3  10_GOP  JUST IN: President Trump dedicates Presidents ...  Unknown   \n",
       "4  10_GOP  19,000 RESPECTING our National Anthem! #StandF...  Unknown   \n",
       "\n",
       "  language     publish_date  following  followers  updates post_type  \\\n",
       "0  English  10/1/2017 19:58       1052       9636      253       NaN   \n",
       "1  English  10/1/2017 22:43       1054       9637      254       NaN   \n",
       "2  English  10/1/2017 22:50       1054       9637      255   RETWEET   \n",
       "3  English  10/1/2017 23:52       1062       9642      256       NaN   \n",
       "4  English   10/1/2017 2:13       1050       9645      246   RETWEET   \n",
       "\n",
       "  account_type  new_june_2018  retweet account_category  \n",
       "0        Right              0        0       RightTroll  \n",
       "1        Right              0        0       RightTroll  \n",
       "2        Right              0        1       RightTroll  \n",
       "3        Right              0        0       RightTroll  \n",
       "4        Right              0        1       RightTroll  "
      ]
     },
     "execution_count": 212,
     "metadata": {},
     "output_type": "execute_result"
    }
   ],
   "source": [
    "# Dropping un-necessary Columns\n",
    "df = data.drop(['external_author_id', 'harvested_date'], axis=1)\n",
    "df.head()"
   ]
  },
  {
   "cell_type": "code",
   "execution_count": 213,
   "metadata": {},
   "outputs": [
    {
     "data": {
      "text/plain": [
       "English                7.160098e-01\n",
       "Russian                2.099046e-01\n",
       "German                 2.931724e-02\n",
       "Ukrainian              1.323784e-02\n",
       "Italian                6.139162e-03\n",
       "Serbian                3.233705e-03\n",
       "Uzbek                  3.192001e-03\n",
       "Bulgarian              3.180902e-03\n",
       "LANGUAGE UNDEFINED     2.799853e-03\n",
       "Arabic                 2.554341e-03\n",
       "Macedonian             1.769036e-03\n",
       "French                 1.537649e-03\n",
       "Spanish                1.057722e-03\n",
       "Norwegian              7.573898e-04\n",
       "Farsi (Persian)        5.666970e-04\n",
       "Romanian               5.485358e-04\n",
       "Dutch                  3.924839e-04\n",
       "Swedish                3.433814e-04\n",
       "Vietnamese             3.329555e-04\n",
       "Estonian               2.593017e-04\n",
       "Japanese               2.576201e-04\n",
       "Catalan                1.984280e-04\n",
       "Finnish                1.954012e-04\n",
       "Albanian               1.923743e-04\n",
       "Croatian               1.836300e-04\n",
       "Icelandic              1.678230e-04\n",
       "Pushto                 1.641235e-04\n",
       "Portuguese             1.563882e-04\n",
       "Turkish                1.496618e-04\n",
       "Lithuanian             1.402449e-04\n",
       "Polish                 1.298190e-04\n",
       "Somali                 9.316029e-05\n",
       "Slovak                 8.744287e-05\n",
       "Tagalog (Filipino)     8.071649e-05\n",
       "Kurdish                7.970754e-05\n",
       "Malay                  7.937122e-05\n",
       "Latvian                7.365380e-05\n",
       "Hungarian              6.457319e-05\n",
       "Czech                  6.255528e-05\n",
       "Greek                  6.255528e-05\n",
       "Indonesian             5.650155e-05\n",
       "Korean                 3.564978e-05\n",
       "Danish                 3.060500e-05\n",
       "Hindi                  2.959605e-05\n",
       "Hebrew                 2.253335e-05\n",
       "Slovenian              2.085176e-05\n",
       "Urdu                   1.984280e-05\n",
       "Thai                   1.278011e-05\n",
       "Simplified Chinese     7.062693e-06\n",
       "Traditional Chinese    3.699506e-06\n",
       "Tamil                  3.026869e-06\n",
       "Gujarati               2.017912e-06\n",
       "Telugu                 6.726374e-07\n",
       "Bengali                6.726374e-07\n",
       "Malayalam              3.363187e-07\n",
       "Kannada                3.363187e-07\n",
       "Name: language, dtype: float64"
      ]
     },
     "execution_count": 213,
     "metadata": {},
     "output_type": "execute_result"
    }
   ],
   "source": [
    "# languages of tweets\n",
    "df.language.value_counts(normalize=True)"
   ]
  },
  {
   "cell_type": "code",
   "execution_count": 214,
   "metadata": {},
   "outputs": [
    {
     "name": "stdout",
     "output_type": "stream",
     "text": [
      "(2128962, 13)\n"
     ]
    },
    {
     "data": {
      "text/html": [
       "<div>\n",
       "<style scoped>\n",
       "    .dataframe tbody tr th:only-of-type {\n",
       "        vertical-align: middle;\n",
       "    }\n",
       "\n",
       "    .dataframe tbody tr th {\n",
       "        vertical-align: top;\n",
       "    }\n",
       "\n",
       "    .dataframe thead th {\n",
       "        text-align: right;\n",
       "    }\n",
       "</style>\n",
       "<table border=\"1\" class=\"dataframe\">\n",
       "  <thead>\n",
       "    <tr style=\"text-align: right;\">\n",
       "      <th></th>\n",
       "      <th>author</th>\n",
       "      <th>content</th>\n",
       "      <th>region</th>\n",
       "      <th>publish_date</th>\n",
       "      <th>following</th>\n",
       "      <th>followers</th>\n",
       "      <th>updates</th>\n",
       "      <th>post_type</th>\n",
       "      <th>account_type</th>\n",
       "      <th>new_june_2018</th>\n",
       "      <th>retweet</th>\n",
       "      <th>account_category</th>\n",
       "    </tr>\n",
       "  </thead>\n",
       "  <tbody>\n",
       "    <tr>\n",
       "      <th>0</th>\n",
       "      <td>10_GOP</td>\n",
       "      <td>\"We have a sitting Democrat US Senator on tria...</td>\n",
       "      <td>Unknown</td>\n",
       "      <td>10/1/2017 19:58</td>\n",
       "      <td>1052</td>\n",
       "      <td>9636</td>\n",
       "      <td>253</td>\n",
       "      <td>NaN</td>\n",
       "      <td>Right</td>\n",
       "      <td>0</td>\n",
       "      <td>0</td>\n",
       "      <td>RightTroll</td>\n",
       "    </tr>\n",
       "    <tr>\n",
       "      <th>1</th>\n",
       "      <td>10_GOP</td>\n",
       "      <td>Marshawn Lynch arrives to game in anti-Trump s...</td>\n",
       "      <td>Unknown</td>\n",
       "      <td>10/1/2017 22:43</td>\n",
       "      <td>1054</td>\n",
       "      <td>9637</td>\n",
       "      <td>254</td>\n",
       "      <td>NaN</td>\n",
       "      <td>Right</td>\n",
       "      <td>0</td>\n",
       "      <td>0</td>\n",
       "      <td>RightTroll</td>\n",
       "    </tr>\n",
       "    <tr>\n",
       "      <th>2</th>\n",
       "      <td>10_GOP</td>\n",
       "      <td>Daughter of fallen Navy Sailor delivers powerf...</td>\n",
       "      <td>Unknown</td>\n",
       "      <td>10/1/2017 22:50</td>\n",
       "      <td>1054</td>\n",
       "      <td>9637</td>\n",
       "      <td>255</td>\n",
       "      <td>RETWEET</td>\n",
       "      <td>Right</td>\n",
       "      <td>0</td>\n",
       "      <td>1</td>\n",
       "      <td>RightTroll</td>\n",
       "    </tr>\n",
       "    <tr>\n",
       "      <th>3</th>\n",
       "      <td>10_GOP</td>\n",
       "      <td>JUST IN: President Trump dedicates Presidents ...</td>\n",
       "      <td>Unknown</td>\n",
       "      <td>10/1/2017 23:52</td>\n",
       "      <td>1062</td>\n",
       "      <td>9642</td>\n",
       "      <td>256</td>\n",
       "      <td>NaN</td>\n",
       "      <td>Right</td>\n",
       "      <td>0</td>\n",
       "      <td>0</td>\n",
       "      <td>RightTroll</td>\n",
       "    </tr>\n",
       "    <tr>\n",
       "      <th>4</th>\n",
       "      <td>10_GOP</td>\n",
       "      <td>19,000 RESPECTING our National Anthem! #StandF...</td>\n",
       "      <td>Unknown</td>\n",
       "      <td>10/1/2017 2:13</td>\n",
       "      <td>1050</td>\n",
       "      <td>9645</td>\n",
       "      <td>246</td>\n",
       "      <td>RETWEET</td>\n",
       "      <td>Right</td>\n",
       "      <td>0</td>\n",
       "      <td>1</td>\n",
       "      <td>RightTroll</td>\n",
       "    </tr>\n",
       "  </tbody>\n",
       "</table>\n",
       "</div>"
      ],
      "text/plain": [
       "   author                                            content   region  \\\n",
       "0  10_GOP  \"We have a sitting Democrat US Senator on tria...  Unknown   \n",
       "1  10_GOP  Marshawn Lynch arrives to game in anti-Trump s...  Unknown   \n",
       "2  10_GOP  Daughter of fallen Navy Sailor delivers powerf...  Unknown   \n",
       "3  10_GOP  JUST IN: President Trump dedicates Presidents ...  Unknown   \n",
       "4  10_GOP  19,000 RESPECTING our National Anthem! #StandF...  Unknown   \n",
       "\n",
       "      publish_date  following  followers  updates post_type account_type  \\\n",
       "0  10/1/2017 19:58       1052       9636      253       NaN        Right   \n",
       "1  10/1/2017 22:43       1054       9637      254       NaN        Right   \n",
       "2  10/1/2017 22:50       1054       9637      255   RETWEET        Right   \n",
       "3  10/1/2017 23:52       1062       9642      256       NaN        Right   \n",
       "4   10/1/2017 2:13       1050       9645      246   RETWEET        Right   \n",
       "\n",
       "   new_june_2018  retweet account_category  \n",
       "0              0        0       RightTroll  \n",
       "1              0        0       RightTroll  \n",
       "2              0        1       RightTroll  \n",
       "3              0        0       RightTroll  \n",
       "4              0        1       RightTroll  "
      ]
     },
     "execution_count": 214,
     "metadata": {},
     "output_type": "execute_result"
    }
   ],
   "source": [
    "### So 71.6% of tweets are in English, so it's better to remove other languages tweets\n",
    "# df which contain only english tweets\n",
    "df = df.loc[df.language == 'English']\n",
    "print(df.shape)\n",
    "df.drop(['language'], axis = 1, inplace = True)\n",
    "df.head()"
   ]
  },
  {
   "cell_type": "code",
   "execution_count": 215,
   "metadata": {},
   "outputs": [
    {
     "data": {
      "text/plain": [
       "array(['Unknown', 'United States', 'Italy', nan, 'United Arab Emirates',\n",
       "       'Israel', 'Azerbaijan', 'United Kingdom', 'Russian Federation',\n",
       "       'Iraq', 'Germany', 'France', 'Ukraine', 'Serbia', 'Egypt',\n",
       "       'Hong Kong', 'Belarus', 'Malaysia', 'Afghanistan', 'Mexico',\n",
       "       'Canada', 'Iran, Islamic Republic of', 'Greece', 'Czech Republic',\n",
       "       'Finland', 'Latvia', 'Spain', 'Sweden', 'Denmark', 'Switzerland'],\n",
       "      dtype=object)"
      ]
     },
     "execution_count": 215,
     "metadata": {},
     "output_type": "execute_result"
    }
   ],
   "source": [
    "# Checking the Unique region\n",
    "df.region.unique()"
   ]
  },
  {
   "cell_type": "code",
   "execution_count": 216,
   "metadata": {},
   "outputs": [
    {
     "data": {
      "text/plain": [
       "United States                8.692881e-01\n",
       "Unknown                      1.160504e-01\n",
       "United Kingdom               7.831501e-03\n",
       "Azerbaijan                   3.578315e-03\n",
       "Germany                      6.039053e-04\n",
       "Russian Federation           5.385802e-04\n",
       "Italy                        5.287109e-04\n",
       "Canada                       2.819791e-04\n",
       "Belarus                      2.321628e-04\n",
       "Afghanistan                  2.166540e-04\n",
       "Iraq                         2.157140e-04\n",
       "Israel                       1.922158e-04\n",
       "United Arab Emirates         1.743571e-04\n",
       "Ukraine                      1.085620e-04\n",
       "Spain                        3.383750e-05\n",
       "France                       3.148767e-05\n",
       "Egypt                        2.772795e-05\n",
       "Sweden                       2.020850e-05\n",
       "Mexico                       1.926857e-05\n",
       "Iran, Islamic Republic of    9.399305e-06\n",
       "Greece                       6.579513e-06\n",
       "Finland                      3.759722e-06\n",
       "Malaysia                     1.879861e-06\n",
       "Latvia                       1.409896e-06\n",
       "Czech Republic               9.399305e-07\n",
       "Serbia                       9.399305e-07\n",
       "Switzerland                  4.699652e-07\n",
       "Denmark                      4.699652e-07\n",
       "Hong Kong                    4.699652e-07\n",
       "Name: region, dtype: float64"
      ]
     },
     "execution_count": 216,
     "metadata": {},
     "output_type": "execute_result"
    }
   ],
   "source": [
    "# Region of tweets\n",
    "df.region.value_counts(normalize=True)"
   ]
  },
  {
   "cell_type": "code",
   "execution_count": 217,
   "metadata": {},
   "outputs": [
    {
     "name": "stdout",
     "output_type": "stream",
     "text": [
      "(1849686, 12)\n"
     ]
    },
    {
     "data": {
      "text/html": [
       "<div>\n",
       "<style scoped>\n",
       "    .dataframe tbody tr th:only-of-type {\n",
       "        vertical-align: middle;\n",
       "    }\n",
       "\n",
       "    .dataframe tbody tr th {\n",
       "        vertical-align: top;\n",
       "    }\n",
       "\n",
       "    .dataframe thead th {\n",
       "        text-align: right;\n",
       "    }\n",
       "</style>\n",
       "<table border=\"1\" class=\"dataframe\">\n",
       "  <thead>\n",
       "    <tr style=\"text-align: right;\">\n",
       "      <th></th>\n",
       "      <th>author</th>\n",
       "      <th>content</th>\n",
       "      <th>publish_date</th>\n",
       "      <th>following</th>\n",
       "      <th>followers</th>\n",
       "      <th>updates</th>\n",
       "      <th>post_type</th>\n",
       "      <th>account_type</th>\n",
       "      <th>new_june_2018</th>\n",
       "      <th>retweet</th>\n",
       "      <th>account_category</th>\n",
       "    </tr>\n",
       "  </thead>\n",
       "  <tbody>\n",
       "    <tr>\n",
       "      <th>425</th>\n",
       "      <td>1D_NICOLE_</td>\n",
       "      <td>#FoodPoisoning is not a joke! #Walmart #KochFa...</td>\n",
       "      <td>11/26/2015 22:20</td>\n",
       "      <td>48</td>\n",
       "      <td>40</td>\n",
       "      <td>394</td>\n",
       "      <td>RETWEET</td>\n",
       "      <td>Koch</td>\n",
       "      <td>0</td>\n",
       "      <td>1</td>\n",
       "      <td>Fearmonger</td>\n",
       "    </tr>\n",
       "    <tr>\n",
       "      <th>426</th>\n",
       "      <td>1D_NICOLE_</td>\n",
       "      <td>Thanks God that #turkey i ate few days ago was...</td>\n",
       "      <td>11/26/2015 22:35</td>\n",
       "      <td>48</td>\n",
       "      <td>40</td>\n",
       "      <td>395</td>\n",
       "      <td>RETWEET</td>\n",
       "      <td>Koch</td>\n",
       "      <td>0</td>\n",
       "      <td>1</td>\n",
       "      <td>Fearmonger</td>\n",
       "    </tr>\n",
       "    <tr>\n",
       "      <th>428</th>\n",
       "      <td>1D_NICOLE_</td>\n",
       "      <td>who's got the worst make up ever, don't tell m...</td>\n",
       "      <td>5/25/2015 12:38</td>\n",
       "      <td>59</td>\n",
       "      <td>51</td>\n",
       "      <td>352</td>\n",
       "      <td>NaN</td>\n",
       "      <td>Koch</td>\n",
       "      <td>0</td>\n",
       "      <td>0</td>\n",
       "      <td>Fearmonger</td>\n",
       "    </tr>\n",
       "    <tr>\n",
       "      <th>429</th>\n",
       "      <td>1D_NICOLE_</td>\n",
       "      <td>I hurt easy, I just don't show it. You can hur...</td>\n",
       "      <td>5/25/2015 12:38</td>\n",
       "      <td>59</td>\n",
       "      <td>51</td>\n",
       "      <td>354</td>\n",
       "      <td>NaN</td>\n",
       "      <td>Koch</td>\n",
       "      <td>0</td>\n",
       "      <td>0</td>\n",
       "      <td>Fearmonger</td>\n",
       "    </tr>\n",
       "    <tr>\n",
       "      <th>430</th>\n",
       "      <td>1D_NICOLE_</td>\n",
       "      <td>« The young are permanently in a state resembl...</td>\n",
       "      <td>5/25/2015 12:39</td>\n",
       "      <td>59</td>\n",
       "      <td>51</td>\n",
       "      <td>356</td>\n",
       "      <td>NaN</td>\n",
       "      <td>Koch</td>\n",
       "      <td>0</td>\n",
       "      <td>0</td>\n",
       "      <td>Fearmonger</td>\n",
       "    </tr>\n",
       "  </tbody>\n",
       "</table>\n",
       "</div>"
      ],
      "text/plain": [
       "         author                                            content  \\\n",
       "425  1D_NICOLE_  #FoodPoisoning is not a joke! #Walmart #KochFa...   \n",
       "426  1D_NICOLE_  Thanks God that #turkey i ate few days ago was...   \n",
       "428  1D_NICOLE_  who's got the worst make up ever, don't tell m...   \n",
       "429  1D_NICOLE_  I hurt easy, I just don't show it. You can hur...   \n",
       "430  1D_NICOLE_  « The young are permanently in a state resembl...   \n",
       "\n",
       "         publish_date  following  followers  updates post_type account_type  \\\n",
       "425  11/26/2015 22:20         48         40      394   RETWEET         Koch   \n",
       "426  11/26/2015 22:35         48         40      395   RETWEET         Koch   \n",
       "428   5/25/2015 12:38         59         51      352       NaN         Koch   \n",
       "429   5/25/2015 12:38         59         51      354       NaN         Koch   \n",
       "430   5/25/2015 12:39         59         51      356       NaN         Koch   \n",
       "\n",
       "     new_june_2018  retweet account_category  \n",
       "425              0        1       Fearmonger  \n",
       "426              0        1       Fearmonger  \n",
       "428              0        0       Fearmonger  \n",
       "429              0        0       Fearmonger  \n",
       "430              0        0       Fearmonger  "
      ]
     },
     "execution_count": 217,
     "metadata": {},
     "output_type": "execute_result"
    }
   ],
   "source": [
    "# so, approx. 87% of tweets are from US\n",
    "#update data to only contain US tweets\n",
    "df = df.loc[df.region == 'United States']\n",
    "print(df.shape)\n",
    "# dropping remaining tweets\n",
    "df.drop(['region'], axis = 1, inplace = True)\n",
    "df.head()"
   ]
  },
  {
   "cell_type": "code",
   "execution_count": 218,
   "metadata": {
    "scrolled": true
   },
   "outputs": [
    {
     "data": {
      "text/plain": [
       "post_type           1027093\n",
       "account_type            354\n",
       "account_category          0\n",
       "retweet                   0\n",
       "new_june_2018             0\n",
       "updates                   0\n",
       "followers                 0\n",
       "following                 0\n",
       "publish_date              0\n",
       "content                   0\n",
       "author                    0\n",
       "dtype: int64"
      ]
     },
     "execution_count": 218,
     "metadata": {},
     "output_type": "execute_result"
    }
   ],
   "source": [
    "#review nan values again\n",
    "df.isna().sum().sort_values(ascending = False)"
   ]
  },
  {
   "cell_type": "code",
   "execution_count": 219,
   "metadata": {},
   "outputs": [
    {
     "data": {
      "text/plain": [
       "array(['Koch', 'Right', 'left', 'Russian', '?', 'Hashtager', 'Arabic',\n",
       "       'Commercial', 'local', 'German', 'ZAPOROSHIA', 'news', 'right',\n",
       "       'Ebola ', nan, 'French'], dtype=object)"
      ]
     },
     "execution_count": 219,
     "metadata": {},
     "output_type": "execute_result"
    }
   ],
   "source": [
    "df.account_type.unique()"
   ]
  },
  {
   "cell_type": "markdown",
   "metadata": {},
   "source": [
    "There are two different 'Right' and 'right', 'news'and 'News' and so on. Similarly other things also so we also replace:\n",
    "- 'right' with 'Right'\n",
    "- 'left' with 'Left'\n",
    "- '?' with 'Unknown'\n",
    "- 'local' with 'Local'\n",
    "- 'news' with 'News'\n",
    "- 'ZAPOROSHIA' with 'Zaporoshia'"
   ]
  },
  {
   "cell_type": "code",
   "execution_count": 220,
   "metadata": {},
   "outputs": [
    {
     "data": {
      "text/plain": [
       "array(['Koch', 'Right', 'Left', 'Russian', 'Unknown', 'Hashtager',\n",
       "       'Arabic', 'Commercial', 'Local', 'German', 'Zaporoshia', 'News',\n",
       "       'Ebola ', 'French'], dtype=object)"
      ]
     },
     "execution_count": 220,
     "metadata": {},
     "output_type": "execute_result"
    }
   ],
   "source": [
    "# Updating Acccount Type\n",
    "df['account_type'].fillna(value='Unknown', inplace = True)\n",
    "\n",
    "df['account_type'].replace({'?': 'Unknown', 'right': 'Right', \n",
    "                            'left': 'Left', 'news': 'News', \n",
    "                           'local': 'Local', 'ZAPOROSHIA': 'Zaporoshia'}, \n",
    "                           inplace = True)\n",
    "\n",
    "df.account_type.unique()"
   ]
  },
  {
   "cell_type": "code",
   "execution_count": 221,
   "metadata": {},
   "outputs": [
    {
     "data": {
      "text/plain": [
       "post_type           1027093\n",
       "account_category          0\n",
       "retweet                   0\n",
       "new_june_2018             0\n",
       "account_type              0\n",
       "updates                   0\n",
       "followers                 0\n",
       "following                 0\n",
       "publish_date              0\n",
       "content                   0\n",
       "author                    0\n",
       "dtype: int64"
      ]
     },
     "execution_count": 221,
     "metadata": {},
     "output_type": "execute_result"
    }
   ],
   "source": [
    "df.isna().sum().sort_values(ascending = False)"
   ]
  },
  {
   "cell_type": "code",
   "execution_count": 222,
   "metadata": {},
   "outputs": [
    {
     "data": {
      "text/plain": [
       "array(['RETWEET', nan, 'QUOTE_TWEET'], dtype=object)"
      ]
     },
     "execution_count": 222,
     "metadata": {},
     "output_type": "execute_result"
    }
   ],
   "source": [
    "df.post_type.unique()"
   ]
  },
  {
   "cell_type": "code",
   "execution_count": 223,
   "metadata": {},
   "outputs": [
    {
     "data": {
      "text/plain": [
       "array(['RETWEET', 'NO_ACTION', 'QUOTE_TWEET'], dtype=object)"
      ]
     },
     "execution_count": 223,
     "metadata": {},
     "output_type": "execute_result"
    }
   ],
   "source": [
    "# Replace 'nan' with 'no_action' i.e neither 'retweeted' nor 'quote_tweet'\n",
    "df['post_type'].fillna(value='NO_ACTION', inplace = True)\n",
    "df.post_type.unique()"
   ]
  },
  {
   "cell_type": "code",
   "execution_count": 224,
   "metadata": {},
   "outputs": [
    {
     "data": {
      "text/plain": [
       "account_category    0\n",
       "retweet             0\n",
       "new_june_2018       0\n",
       "account_type        0\n",
       "post_type           0\n",
       "updates             0\n",
       "followers           0\n",
       "following           0\n",
       "publish_date        0\n",
       "content             0\n",
       "author              0\n",
       "dtype: int64"
      ]
     },
     "execution_count": 224,
     "metadata": {},
     "output_type": "execute_result"
    }
   ],
   "source": [
    "df.isna().sum().sort_values(ascending = False)"
   ]
  },
  {
   "cell_type": "markdown",
   "metadata": {},
   "source": [
    "So, FInally no NaN values are there."
   ]
  },
  {
   "cell_type": "code",
   "execution_count": 225,
   "metadata": {},
   "outputs": [
    {
     "name": "stdout",
     "output_type": "stream",
     "text": [
      "<class 'pandas.core.frame.DataFrame'>\n",
      "Int64Index: 1849686 entries, 425 to 2973153\n",
      "Data columns (total 11 columns):\n",
      " #   Column            Dtype \n",
      "---  ------            ----- \n",
      " 0   author            object\n",
      " 1   content           object\n",
      " 2   publish_date      object\n",
      " 3   following         int64 \n",
      " 4   followers         int64 \n",
      " 5   updates           int64 \n",
      " 6   post_type         object\n",
      " 7   account_type      object\n",
      " 8   new_june_2018     int64 \n",
      " 9   retweet           int64 \n",
      " 10  account_category  object\n",
      "dtypes: int64(5), object(6)\n",
      "memory usage: 169.3+ MB\n"
     ]
    }
   ],
   "source": [
    "df.info()"
   ]
  },
  {
   "cell_type": "code",
   "execution_count": 226,
   "metadata": {},
   "outputs": [
    {
     "data": {
      "text/plain": [
       "425    11/26/2015 22:20\n",
       "426    11/26/2015 22:35\n",
       "428     5/25/2015 12:38\n",
       "429     5/25/2015 12:38\n",
       "430     5/25/2015 12:39\n",
       "Name: publish_date, dtype: object"
      ]
     },
     "execution_count": 226,
     "metadata": {},
     "output_type": "execute_result"
    }
   ],
   "source": [
    "df['publish_date'].head()"
   ]
  },
  {
   "cell_type": "code",
   "execution_count": 227,
   "metadata": {
    "scrolled": true
   },
   "outputs": [],
   "source": [
    "# df['publish_date'] = pd.to_datetime(df['publish_date']).dt.date\n",
    "# df['publish_date'].head()"
   ]
  },
  {
   "cell_type": "code",
   "execution_count": 228,
   "metadata": {},
   "outputs": [],
   "source": [
    "df['publish_date'] = pd.to_datetime(df['publish_date'])"
   ]
  },
  {
   "cell_type": "code",
   "execution_count": 229,
   "metadata": {},
   "outputs": [],
   "source": [
    "df['Month'] = df['publish_date'].dt.month\n",
    "df['day'] = df['publish_date'].dt.day\n",
    "df['year'] = df['publish_date'].dt.year"
   ]
  },
  {
   "cell_type": "code",
   "execution_count": 230,
   "metadata": {
    "scrolled": true
   },
   "outputs": [
    {
     "data": {
      "text/plain": [
       "425   2015-11-26 22:20:00\n",
       "426   2015-11-26 22:35:00\n",
       "428   2015-05-25 12:38:00\n",
       "429   2015-05-25 12:38:00\n",
       "430   2015-05-25 12:39:00\n",
       "Name: publish_date, dtype: datetime64[ns]"
      ]
     },
     "execution_count": 230,
     "metadata": {},
     "output_type": "execute_result"
    }
   ],
   "source": [
    "df['publish_date'].head()"
   ]
  },
  {
   "cell_type": "code",
   "execution_count": 231,
   "metadata": {},
   "outputs": [],
   "source": [
    "# from datetime import datetime\n",
    "# df['date'] = datetime(df['publish_date']).day\n",
    "# df['month'] = datetime(df['publish_date']).month\n",
    "# df['year'] = datetime(df['publish_date']).year"
   ]
  },
  {
   "cell_type": "code",
   "execution_count": 232,
   "metadata": {},
   "outputs": [
    {
     "data": {
      "text/html": [
       "<div>\n",
       "<style scoped>\n",
       "    .dataframe tbody tr th:only-of-type {\n",
       "        vertical-align: middle;\n",
       "    }\n",
       "\n",
       "    .dataframe tbody tr th {\n",
       "        vertical-align: top;\n",
       "    }\n",
       "\n",
       "    .dataframe thead th {\n",
       "        text-align: right;\n",
       "    }\n",
       "</style>\n",
       "<table border=\"1\" class=\"dataframe\">\n",
       "  <thead>\n",
       "    <tr style=\"text-align: right;\">\n",
       "      <th></th>\n",
       "      <th>author</th>\n",
       "      <th>content</th>\n",
       "      <th>publish_date</th>\n",
       "      <th>following</th>\n",
       "      <th>followers</th>\n",
       "      <th>updates</th>\n",
       "      <th>post_type</th>\n",
       "      <th>account_type</th>\n",
       "      <th>new_june_2018</th>\n",
       "      <th>retweet</th>\n",
       "      <th>account_category</th>\n",
       "      <th>Month</th>\n",
       "      <th>day</th>\n",
       "      <th>year</th>\n",
       "    </tr>\n",
       "  </thead>\n",
       "  <tbody>\n",
       "    <tr>\n",
       "      <th>425</th>\n",
       "      <td>1D_NICOLE_</td>\n",
       "      <td>#FoodPoisoning is not a joke! #Walmart #KochFa...</td>\n",
       "      <td>2015-11-26 22:20:00</td>\n",
       "      <td>48</td>\n",
       "      <td>40</td>\n",
       "      <td>394</td>\n",
       "      <td>RETWEET</td>\n",
       "      <td>Koch</td>\n",
       "      <td>0</td>\n",
       "      <td>1</td>\n",
       "      <td>Fearmonger</td>\n",
       "      <td>11</td>\n",
       "      <td>26</td>\n",
       "      <td>2015</td>\n",
       "    </tr>\n",
       "    <tr>\n",
       "      <th>426</th>\n",
       "      <td>1D_NICOLE_</td>\n",
       "      <td>Thanks God that #turkey i ate few days ago was...</td>\n",
       "      <td>2015-11-26 22:35:00</td>\n",
       "      <td>48</td>\n",
       "      <td>40</td>\n",
       "      <td>395</td>\n",
       "      <td>RETWEET</td>\n",
       "      <td>Koch</td>\n",
       "      <td>0</td>\n",
       "      <td>1</td>\n",
       "      <td>Fearmonger</td>\n",
       "      <td>11</td>\n",
       "      <td>26</td>\n",
       "      <td>2015</td>\n",
       "    </tr>\n",
       "    <tr>\n",
       "      <th>428</th>\n",
       "      <td>1D_NICOLE_</td>\n",
       "      <td>who's got the worst make up ever, don't tell m...</td>\n",
       "      <td>2015-05-25 12:38:00</td>\n",
       "      <td>59</td>\n",
       "      <td>51</td>\n",
       "      <td>352</td>\n",
       "      <td>NO_ACTION</td>\n",
       "      <td>Koch</td>\n",
       "      <td>0</td>\n",
       "      <td>0</td>\n",
       "      <td>Fearmonger</td>\n",
       "      <td>5</td>\n",
       "      <td>25</td>\n",
       "      <td>2015</td>\n",
       "    </tr>\n",
       "    <tr>\n",
       "      <th>429</th>\n",
       "      <td>1D_NICOLE_</td>\n",
       "      <td>I hurt easy, I just don't show it. You can hur...</td>\n",
       "      <td>2015-05-25 12:38:00</td>\n",
       "      <td>59</td>\n",
       "      <td>51</td>\n",
       "      <td>354</td>\n",
       "      <td>NO_ACTION</td>\n",
       "      <td>Koch</td>\n",
       "      <td>0</td>\n",
       "      <td>0</td>\n",
       "      <td>Fearmonger</td>\n",
       "      <td>5</td>\n",
       "      <td>25</td>\n",
       "      <td>2015</td>\n",
       "    </tr>\n",
       "    <tr>\n",
       "      <th>430</th>\n",
       "      <td>1D_NICOLE_</td>\n",
       "      <td>« The young are permanently in a state resembl...</td>\n",
       "      <td>2015-05-25 12:39:00</td>\n",
       "      <td>59</td>\n",
       "      <td>51</td>\n",
       "      <td>356</td>\n",
       "      <td>NO_ACTION</td>\n",
       "      <td>Koch</td>\n",
       "      <td>0</td>\n",
       "      <td>0</td>\n",
       "      <td>Fearmonger</td>\n",
       "      <td>5</td>\n",
       "      <td>25</td>\n",
       "      <td>2015</td>\n",
       "    </tr>\n",
       "  </tbody>\n",
       "</table>\n",
       "</div>"
      ],
      "text/plain": [
       "         author                                            content  \\\n",
       "425  1D_NICOLE_  #FoodPoisoning is not a joke! #Walmart #KochFa...   \n",
       "426  1D_NICOLE_  Thanks God that #turkey i ate few days ago was...   \n",
       "428  1D_NICOLE_  who's got the worst make up ever, don't tell m...   \n",
       "429  1D_NICOLE_  I hurt easy, I just don't show it. You can hur...   \n",
       "430  1D_NICOLE_  « The young are permanently in a state resembl...   \n",
       "\n",
       "           publish_date  following  followers  updates  post_type  \\\n",
       "425 2015-11-26 22:20:00         48         40      394    RETWEET   \n",
       "426 2015-11-26 22:35:00         48         40      395    RETWEET   \n",
       "428 2015-05-25 12:38:00         59         51      352  NO_ACTION   \n",
       "429 2015-05-25 12:38:00         59         51      354  NO_ACTION   \n",
       "430 2015-05-25 12:39:00         59         51      356  NO_ACTION   \n",
       "\n",
       "    account_type  new_june_2018  retweet account_category  Month  day  year  \n",
       "425         Koch              0        1       Fearmonger     11   26  2015  \n",
       "426         Koch              0        1       Fearmonger     11   26  2015  \n",
       "428         Koch              0        0       Fearmonger      5   25  2015  \n",
       "429         Koch              0        0       Fearmonger      5   25  2015  \n",
       "430         Koch              0        0       Fearmonger      5   25  2015  "
      ]
     },
     "execution_count": 232,
     "metadata": {},
     "output_type": "execute_result"
    }
   ],
   "source": [
    "df.head()"
   ]
  },
  {
   "cell_type": "markdown",
   "metadata": {},
   "source": [
    "Now, Data is ready for Exploration."
   ]
  },
  {
   "cell_type": "code",
   "execution_count": 233,
   "metadata": {},
   "outputs": [
    {
     "data": {
      "text/plain": [
       "NO_ACTION      1027093\n",
       "RETWEET         794667\n",
       "QUOTE_TWEET      27926\n",
       "Name: post_type, dtype: int64"
      ]
     },
     "execution_count": 233,
     "metadata": {},
     "output_type": "execute_result"
    }
   ],
   "source": [
    "df.post_type.value_counts()"
   ]
  },
  {
   "cell_type": "code",
   "execution_count": 234,
   "metadata": {},
   "outputs": [],
   "source": [
    "d={'NO_ACTION':0,'RETWEET':1,'QUOTE_TWEET':2}\n",
    "df.post_type=df.post_type.map(d)"
   ]
  },
  {
   "cell_type": "code",
   "execution_count": 235,
   "metadata": {},
   "outputs": [
    {
     "data": {
      "text/plain": [
       "0    1027093\n",
       "1     794667\n",
       "2      27926\n",
       "Name: post_type, dtype: int64"
      ]
     },
     "execution_count": 235,
     "metadata": {},
     "output_type": "execute_result"
    }
   ],
   "source": [
    "df.post_type.value_counts()"
   ]
  },
  {
   "cell_type": "code",
   "execution_count": 236,
   "metadata": {},
   "outputs": [
    {
     "data": {
      "text/plain": [
       "Right         497945\n",
       "Local         451298\n",
       "Left          416253\n",
       "Hashtager     228104\n",
       "News          123396\n",
       "Commercial    112051\n",
       "Koch           10677\n",
       "Unknown         6165\n",
       "Russian         3242\n",
       "German           260\n",
       "Zaporoshia       172\n",
       "Ebola             70\n",
       "Arabic            49\n",
       "French             4\n",
       "Name: account_type, dtype: int64"
      ]
     },
     "execution_count": 236,
     "metadata": {},
     "output_type": "execute_result"
    }
   ],
   "source": [
    "df.account_type.value_counts()"
   ]
  },
  {
   "cell_type": "code",
   "execution_count": 237,
   "metadata": {},
   "outputs": [
    {
     "data": {
      "text/plain": [
       "NewsFeed        574694\n",
       "RightTroll      497945\n",
       "LeftTroll       416253\n",
       "HashtagGamer    228104\n",
       "Commercial      112051\n",
       "Fearmonger       10919\n",
       "Unknown           6165\n",
       "NonEnglish        3555\n",
       "Name: account_category, dtype: int64"
      ]
     },
     "execution_count": 237,
     "metadata": {},
     "output_type": "execute_result"
    }
   ],
   "source": [
    "df.account_category.value_counts()"
   ]
  },
  {
   "cell_type": "code",
   "execution_count": 238,
   "metadata": {},
   "outputs": [],
   "source": [
    "from sklearn.preprocessing import LabelEncoder\n",
    "le=LabelEncoder()"
   ]
  },
  {
   "cell_type": "code",
   "execution_count": 239,
   "metadata": {},
   "outputs": [],
   "source": [
    "df.account_category=le.fit_transform(df.account_category)\n",
    "df.account_type=le.fit_transform(df.account_type)"
   ]
  },
  {
   "cell_type": "code",
   "execution_count": 240,
   "metadata": {},
   "outputs": [],
   "source": [
    "df.author=le.fit_transform(df.author)"
   ]
  },
  {
   "cell_type": "code",
   "execution_count": 241,
   "metadata": {},
   "outputs": [
    {
     "data": {
      "text/html": [
       "<div>\n",
       "<style scoped>\n",
       "    .dataframe tbody tr th:only-of-type {\n",
       "        vertical-align: middle;\n",
       "    }\n",
       "\n",
       "    .dataframe tbody tr th {\n",
       "        vertical-align: top;\n",
       "    }\n",
       "\n",
       "    .dataframe thead th {\n",
       "        text-align: right;\n",
       "    }\n",
       "</style>\n",
       "<table border=\"1\" class=\"dataframe\">\n",
       "  <thead>\n",
       "    <tr style=\"text-align: right;\">\n",
       "      <th></th>\n",
       "      <th>author</th>\n",
       "      <th>content</th>\n",
       "      <th>publish_date</th>\n",
       "      <th>following</th>\n",
       "      <th>followers</th>\n",
       "      <th>updates</th>\n",
       "      <th>post_type</th>\n",
       "      <th>account_type</th>\n",
       "      <th>new_june_2018</th>\n",
       "      <th>retweet</th>\n",
       "      <th>account_category</th>\n",
       "      <th>Month</th>\n",
       "      <th>day</th>\n",
       "      <th>year</th>\n",
       "    </tr>\n",
       "  </thead>\n",
       "  <tbody>\n",
       "    <tr>\n",
       "      <th>425</th>\n",
       "      <td>0</td>\n",
       "      <td>#FoodPoisoning is not a joke! #Walmart #KochFa...</td>\n",
       "      <td>2015-11-26 22:20:00</td>\n",
       "      <td>48</td>\n",
       "      <td>40</td>\n",
       "      <td>394</td>\n",
       "      <td>1</td>\n",
       "      <td>6</td>\n",
       "      <td>0</td>\n",
       "      <td>1</td>\n",
       "      <td>1</td>\n",
       "      <td>11</td>\n",
       "      <td>26</td>\n",
       "      <td>2015</td>\n",
       "    </tr>\n",
       "    <tr>\n",
       "      <th>426</th>\n",
       "      <td>0</td>\n",
       "      <td>Thanks God that #turkey i ate few days ago was...</td>\n",
       "      <td>2015-11-26 22:35:00</td>\n",
       "      <td>48</td>\n",
       "      <td>40</td>\n",
       "      <td>395</td>\n",
       "      <td>1</td>\n",
       "      <td>6</td>\n",
       "      <td>0</td>\n",
       "      <td>1</td>\n",
       "      <td>1</td>\n",
       "      <td>11</td>\n",
       "      <td>26</td>\n",
       "      <td>2015</td>\n",
       "    </tr>\n",
       "    <tr>\n",
       "      <th>428</th>\n",
       "      <td>0</td>\n",
       "      <td>who's got the worst make up ever, don't tell m...</td>\n",
       "      <td>2015-05-25 12:38:00</td>\n",
       "      <td>59</td>\n",
       "      <td>51</td>\n",
       "      <td>352</td>\n",
       "      <td>0</td>\n",
       "      <td>6</td>\n",
       "      <td>0</td>\n",
       "      <td>0</td>\n",
       "      <td>1</td>\n",
       "      <td>5</td>\n",
       "      <td>25</td>\n",
       "      <td>2015</td>\n",
       "    </tr>\n",
       "    <tr>\n",
       "      <th>429</th>\n",
       "      <td>0</td>\n",
       "      <td>I hurt easy, I just don't show it. You can hur...</td>\n",
       "      <td>2015-05-25 12:38:00</td>\n",
       "      <td>59</td>\n",
       "      <td>51</td>\n",
       "      <td>354</td>\n",
       "      <td>0</td>\n",
       "      <td>6</td>\n",
       "      <td>0</td>\n",
       "      <td>0</td>\n",
       "      <td>1</td>\n",
       "      <td>5</td>\n",
       "      <td>25</td>\n",
       "      <td>2015</td>\n",
       "    </tr>\n",
       "    <tr>\n",
       "      <th>430</th>\n",
       "      <td>0</td>\n",
       "      <td>« The young are permanently in a state resembl...</td>\n",
       "      <td>2015-05-25 12:39:00</td>\n",
       "      <td>59</td>\n",
       "      <td>51</td>\n",
       "      <td>356</td>\n",
       "      <td>0</td>\n",
       "      <td>6</td>\n",
       "      <td>0</td>\n",
       "      <td>0</td>\n",
       "      <td>1</td>\n",
       "      <td>5</td>\n",
       "      <td>25</td>\n",
       "      <td>2015</td>\n",
       "    </tr>\n",
       "  </tbody>\n",
       "</table>\n",
       "</div>"
      ],
      "text/plain": [
       "     author                                            content  \\\n",
       "425       0  #FoodPoisoning is not a joke! #Walmart #KochFa...   \n",
       "426       0  Thanks God that #turkey i ate few days ago was...   \n",
       "428       0  who's got the worst make up ever, don't tell m...   \n",
       "429       0  I hurt easy, I just don't show it. You can hur...   \n",
       "430       0  « The young are permanently in a state resembl...   \n",
       "\n",
       "           publish_date  following  followers  updates  post_type  \\\n",
       "425 2015-11-26 22:20:00         48         40      394          1   \n",
       "426 2015-11-26 22:35:00         48         40      395          1   \n",
       "428 2015-05-25 12:38:00         59         51      352          0   \n",
       "429 2015-05-25 12:38:00         59         51      354          0   \n",
       "430 2015-05-25 12:39:00         59         51      356          0   \n",
       "\n",
       "     account_type  new_june_2018  retweet  account_category  Month  day  year  \n",
       "425             6              0        1                 1     11   26  2015  \n",
       "426             6              0        1                 1     11   26  2015  \n",
       "428             6              0        0                 1      5   25  2015  \n",
       "429             6              0        0                 1      5   25  2015  \n",
       "430             6              0        0                 1      5   25  2015  "
      ]
     },
     "execution_count": 241,
     "metadata": {},
     "output_type": "execute_result"
    }
   ],
   "source": [
    "df.head()"
   ]
  },
  {
   "cell_type": "code",
   "execution_count": 242,
   "metadata": {},
   "outputs": [],
   "source": [
    "df=df.drop(['publish_date'],axis=1)"
   ]
  },
  {
   "cell_type": "code",
   "execution_count": 243,
   "metadata": {},
   "outputs": [],
   "source": [
    "from sklearn.ensemble import RandomForestClassifier\n",
    "from sklearn.model_selection import train_test_split\n",
    "from sklearn.metrics import classification_report"
   ]
  },
  {
   "cell_type": "code",
   "execution_count": 244,
   "metadata": {},
   "outputs": [],
   "source": [
    "x=df.drop(['account_category','content','account_type'],axis=1)\n",
    "y=df['account_category']"
   ]
  },
  {
   "cell_type": "code",
   "execution_count": 245,
   "metadata": {},
   "outputs": [],
   "source": [
    "xtrn,xte,ytrn,yte=train_test_split(x,y,test_size=0.30)\n",
    "xtrn,xval,ytrn,yval=train_test_split(xtrn,ytrn,test_size=0.30)"
   ]
  },
  {
   "cell_type": "code",
   "execution_count": 246,
   "metadata": {},
   "outputs": [
    {
     "data": {
      "text/plain": [
       "RandomForestClassifier()"
      ]
     },
     "execution_count": 246,
     "metadata": {},
     "output_type": "execute_result"
    }
   ],
   "source": [
    "rf=RandomForestClassifier(n_estimators=100)\n",
    "rf.fit(xtrn,ytrn)"
   ]
  },
  {
   "cell_type": "code",
   "execution_count": 247,
   "metadata": {},
   "outputs": [],
   "source": [
    "y_pred=rf.predict(xval)"
   ]
  },
  {
   "cell_type": "code",
   "execution_count": 248,
   "metadata": {
    "scrolled": true
   },
   "outputs": [
    {
     "name": "stdout",
     "output_type": "stream",
     "text": [
      "              precision    recall  f1-score   support\n",
      "\n",
      "           0       1.00      1.00      1.00     23394\n",
      "           1       1.00      1.00      1.00      2311\n",
      "           2       1.00      1.00      1.00     47545\n",
      "           3       1.00      1.00      1.00     87706\n",
      "           4       1.00      1.00      1.00    120638\n",
      "           5       0.97      1.00      0.99       724\n",
      "           6       1.00      1.00      1.00    104859\n",
      "           7       0.98      1.00      0.99      1257\n",
      "\n",
      "    accuracy                           1.00    388434\n",
      "   macro avg       0.99      1.00      1.00    388434\n",
      "weighted avg       1.00      1.00      1.00    388434\n",
      "\n"
     ]
    }
   ],
   "source": [
    "report=classification_report(y_pred,yval)\n",
    "print(report)"
   ]
  },
  {
   "cell_type": "code",
   "execution_count": 249,
   "metadata": {},
   "outputs": [
    {
     "data": {
      "text/plain": [
       "(array([4, 3, 4, ..., 4, 2, 4]), array([4, 3, 4, ..., 4, 2, 4]))"
      ]
     },
     "execution_count": 249,
     "metadata": {},
     "output_type": "execute_result"
    }
   ],
   "source": [
    "yval.values,y_pred"
   ]
  },
  {
   "cell_type": "code",
   "execution_count": 250,
   "metadata": {},
   "outputs": [
    {
     "name": "stderr",
     "output_type": "stream",
     "text": [
      "C:\\Users\\ADITYA\\miniconda3\\lib\\site-packages\\xgboost\\sklearn.py:888: UserWarning: The use of label encoder in XGBClassifier is deprecated and will be removed in a future release. To remove this warning, do the following: 1) Pass option use_label_encoder=False when constructing XGBClassifier object; and 2) Encode your labels (y) as integers starting with 0, i.e. 0, 1, 2, ..., [num_class - 1].\n",
      "  warnings.warn(label_encoder_deprecation_msg, UserWarning)\n"
     ]
    },
    {
     "name": "stdout",
     "output_type": "stream",
     "text": [
      "[20:34:15] WARNING: C:/Users/Administrator/workspace/xgboost-win64_release_1.3.0/src/learner.cc:1061: Starting in XGBoost 1.3.0, the default evaluation metric used with the objective 'multi:softprob' was changed from 'merror' to 'mlogloss'. Explicitly set eval_metric if you'd like to restore the old behavior.\n"
     ]
    },
    {
     "data": {
      "text/plain": [
       "XGBClassifier(base_score=0.5, booster='gbtree', colsample_bylevel=1,\n",
       "              colsample_bynode=1, colsample_bytree=1, gamma=0, gpu_id=-1,\n",
       "              importance_type='gain', interaction_constraints='',\n",
       "              learning_rate=0.300000012, max_delta_step=0, max_depth=6,\n",
       "              min_child_weight=1, missing=nan, monotone_constraints='()',\n",
       "              n_estimators=100, n_jobs=8, num_parallel_tree=1,\n",
       "              objective='multi:softprob', random_state=0, reg_alpha=0,\n",
       "              reg_lambda=1, scale_pos_weight=None, subsample=1,\n",
       "              tree_method='exact', validate_parameters=1, verbosity=None)"
      ]
     },
     "execution_count": 250,
     "metadata": {},
     "output_type": "execute_result"
    }
   ],
   "source": [
    "from xgboost import XGBClassifier\n",
    "xgb=XGBClassifier()\n",
    "xgb.fit(xtrn,ytrn)"
   ]
  },
  {
   "cell_type": "code",
   "execution_count": 251,
   "metadata": {},
   "outputs": [],
   "source": [
    "y_pre=xgb.predict(xval)"
   ]
  },
  {
   "cell_type": "code",
   "execution_count": 252,
   "metadata": {
    "scrolled": true
   },
   "outputs": [
    {
     "name": "stdout",
     "output_type": "stream",
     "text": [
      "              precision    recall  f1-score   support\n",
      "\n",
      "           0       1.00      1.00      1.00     23394\n",
      "           1       1.00      0.99      1.00      2325\n",
      "           2       1.00      1.00      1.00     47511\n",
      "           3       1.00      1.00      1.00     87665\n",
      "           4       1.00      1.00      1.00    120640\n",
      "           5       0.97      1.00      0.99       722\n",
      "           6       1.00      1.00      1.00    104932\n",
      "           7       0.97      1.00      0.98      1245\n",
      "\n",
      "    accuracy                           1.00    388434\n",
      "   macro avg       0.99      1.00      1.00    388434\n",
      "weighted avg       1.00      1.00      1.00    388434\n",
      "\n"
     ]
    }
   ],
   "source": [
    "report=classification_report(y_pre,yval)\n",
    "print(report)"
   ]
  },
  {
   "cell_type": "code",
   "execution_count": 253,
   "metadata": {},
   "outputs": [
    {
     "data": {
      "text/plain": [
       "(array([4, 3, 4, ..., 4, 2, 4]), array([4, 3, 4, ..., 4, 2, 4]))"
      ]
     },
     "execution_count": 253,
     "metadata": {},
     "output_type": "execute_result"
    }
   ],
   "source": [
    "yval.values,y_pre"
   ]
  },
  {
   "cell_type": "code",
   "execution_count": null,
   "metadata": {},
   "outputs": [],
   "source": []
  },
  {
   "cell_type": "code",
   "execution_count": null,
   "metadata": {},
   "outputs": [],
   "source": []
  }
 ],
 "metadata": {
  "kernelspec": {
   "display_name": "Python 3",
   "language": "python",
   "name": "python3"
  },
  "language_info": {
   "codemirror_mode": {
    "name": "ipython",
    "version": 3
   },
   "file_extension": ".py",
   "mimetype": "text/x-python",
   "name": "python",
   "nbconvert_exporter": "python",
   "pygments_lexer": "ipython3",
   "version": "3.8.5"
  }
 },
 "nbformat": 4,
 "nbformat_minor": 4
}
